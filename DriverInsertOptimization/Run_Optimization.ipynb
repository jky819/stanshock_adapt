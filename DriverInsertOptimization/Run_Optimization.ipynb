{
 "cells": [
  {
   "cell_type": "code",
   "execution_count": null,
   "metadata": {
    "collapsed": true
   },
   "outputs": [],
   "source": [
    "from DriverInsert import InsertOpt"
   ]
  },
  {
   "cell_type": "code",
   "execution_count": null,
   "outputs": [],
   "source": [
    "# define shock conditions and simulation parameters:\n",
    "Mixture = {\n",
    "    'mechanism':\"O2Argon.xml\",\n",
    "    'X4':\"N2:1\",\n",
    "    'X1':\"AR:1\"\n",
    "}\n",
    "\n",
    "Thermal = {\n",
    "    'p4':27.5*6894.76,\n",
    "    'p1':88.2*133.322,\n",
    "    'T1':23+273,\n",
    "}\n",
    "Sim = {\n",
    "    'nXCoarse':150,\n",
    "    'nXFine':500,\n",
    "    'xStep':10,\n",
    "    'tFinal':25e-3,\n",
    "    'tTest':3e-3,\n",
    "    'tradeoff':0\n",
    "}\n",
    "\n",
    "Geometry = {\n",
    "    'LDriver':3.63,#9.57,\n",
    "    'LDriven':9.73,\n",
    "    'DDriver':1.01*(11.53e-2),\n",
    "    'DDriven':11.53e-2\n",
    "}\n",
    "\n",
    "opt = InsertOpt(Mixture, Thermal, Sim, Geometry, saveData = True)"
   ],
   "metadata": {
    "collapsed": false,
    "pycharm": {
     "name": "#%%\n"
    }
   }
  },
  {
   "cell_type": "code",
   "execution_count": null,
   "outputs": [],
   "source": [
    "# run optimization here:\n",
    "opt.GetInsert()"
   ],
   "metadata": {
    "collapsed": false,
    "pycharm": {
     "name": "#%%\n"
    }
   }
  },
  {
   "cell_type": "code",
   "execution_count": null,
   "outputs": [],
   "source": [
    "# simulate user defined insert profile:\n",
    "Insert = {\n",
    "    'M':32,\n",
    "    'L+':7,\n",
    "    'L':12,\n",
    "    'K':11,\n",
    "    'J':12,\n",
    "    'H':8.5,\n",
    "    'F':7.25,\n",
    "    'D-':9,\n",
    "    'A':9\n",
    "}\n",
    "opt.SimulateInsert(discrete = True, Insert = Insert)"
   ],
   "metadata": {
    "collapsed": false,
    "pycharm": {
     "name": "#%%\n"
    }
   }
  }
 ],
 "metadata": {
  "kernelspec": {
   "display_name": "Python 3",
   "language": "python",
   "name": "python3"
  },
  "language_info": {
   "codemirror_mode": {
    "name": "ipython",
    "version": 2
   },
   "file_extension": ".py",
   "mimetype": "text/x-python",
   "name": "python",
   "nbconvert_exporter": "python",
   "pygments_lexer": "ipython2",
   "version": "2.7.6"
  }
 },
 "nbformat": 4,
 "nbformat_minor": 0
}